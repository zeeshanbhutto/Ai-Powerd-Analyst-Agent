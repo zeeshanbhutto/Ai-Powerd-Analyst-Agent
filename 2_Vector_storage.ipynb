{
 "cells": [
  {
   "cell_type": "markdown",
   "id": "1e49400d-a68c-401e-95cd-070083881ac2",
   "metadata": {},
   "source": [
    "#  Store Chunks in FAISS (Vector Database)"
   ]
  },
  {
   "cell_type": "code",
   "execution_count": 33,
   "id": "0fcead63-5256-48d8-8cd9-a9f8d6c5ca5a",
   "metadata": {},
   "outputs": [
    {
     "name": "stdout",
     "output_type": "stream",
     "text": [
      "Requirement already satisfied: faiss-cpu in c:\\users\\hadib\\anaconda3\\lib\\site-packages (1.10.0)\n",
      "Requirement already satisfied: langchain in c:\\users\\hadib\\anaconda3\\lib\\site-packages (0.3.18)\n",
      "Requirement already satisfied: numpy<3.0,>=1.25.0 in c:\\users\\hadib\\anaconda3\\lib\\site-packages (from faiss-cpu) (1.26.4)\n",
      "Requirement already satisfied: packaging in c:\\users\\hadib\\anaconda3\\lib\\site-packages (from faiss-cpu) (24.1)\n",
      "Requirement already satisfied: langchain-core<1.0.0,>=0.3.34 in c:\\users\\hadib\\anaconda3\\lib\\site-packages (from langchain) (0.3.34)\n",
      "Requirement already satisfied: langchain-text-splitters<1.0.0,>=0.3.6 in c:\\users\\hadib\\anaconda3\\lib\\site-packages (from langchain) (0.3.6)\n",
      "Requirement already satisfied: langsmith<0.4,>=0.1.17 in c:\\users\\hadib\\anaconda3\\lib\\site-packages (from langchain) (0.3.8)\n",
      "Requirement already satisfied: pydantic<3.0.0,>=2.7.4 in c:\\users\\hadib\\anaconda3\\lib\\site-packages (from langchain) (2.10.6)\n",
      "Requirement already satisfied: SQLAlchemy<3,>=1.4 in c:\\users\\hadib\\anaconda3\\lib\\site-packages (from langchain) (2.0.34)\n",
      "Requirement already satisfied: requests<3,>=2 in c:\\users\\hadib\\anaconda3\\lib\\site-packages (from langchain) (2.32.3)\n",
      "Requirement already satisfied: PyYAML>=5.3 in c:\\users\\hadib\\anaconda3\\lib\\site-packages (from langchain) (6.0.1)\n",
      "Requirement already satisfied: aiohttp<4.0.0,>=3.8.3 in c:\\users\\hadib\\anaconda3\\lib\\site-packages (from langchain) (3.10.5)\n",
      "Requirement already satisfied: tenacity!=8.4.0,<10,>=8.1.0 in c:\\users\\hadib\\anaconda3\\lib\\site-packages (from langchain) (8.2.3)\n",
      "Requirement already satisfied: aiohappyeyeballs>=2.3.0 in c:\\users\\hadib\\anaconda3\\lib\\site-packages (from aiohttp<4.0.0,>=3.8.3->langchain) (2.4.0)\n",
      "Requirement already satisfied: aiosignal>=1.1.2 in c:\\users\\hadib\\anaconda3\\lib\\site-packages (from aiohttp<4.0.0,>=3.8.3->langchain) (1.2.0)\n",
      "Requirement already satisfied: attrs>=17.3.0 in c:\\users\\hadib\\anaconda3\\lib\\site-packages (from aiohttp<4.0.0,>=3.8.3->langchain) (23.1.0)\n",
      "Requirement already satisfied: frozenlist>=1.1.1 in c:\\users\\hadib\\anaconda3\\lib\\site-packages (from aiohttp<4.0.0,>=3.8.3->langchain) (1.4.0)\n",
      "Requirement already satisfied: multidict<7.0,>=4.5 in c:\\users\\hadib\\anaconda3\\lib\\site-packages (from aiohttp<4.0.0,>=3.8.3->langchain) (6.0.4)\n",
      "Requirement already satisfied: yarl<2.0,>=1.0 in c:\\users\\hadib\\anaconda3\\lib\\site-packages (from aiohttp<4.0.0,>=3.8.3->langchain) (1.11.0)\n",
      "Requirement already satisfied: jsonpatch<2.0,>=1.33 in c:\\users\\hadib\\anaconda3\\lib\\site-packages (from langchain-core<1.0.0,>=0.3.34->langchain) (1.33)\n",
      "Requirement already satisfied: typing-extensions>=4.7 in c:\\users\\hadib\\anaconda3\\lib\\site-packages (from langchain-core<1.0.0,>=0.3.34->langchain) (4.12.2)\n",
      "Requirement already satisfied: httpx<1,>=0.23.0 in c:\\users\\hadib\\anaconda3\\lib\\site-packages (from langsmith<0.4,>=0.1.17->langchain) (0.27.0)\n",
      "Requirement already satisfied: orjson<4.0.0,>=3.9.14 in c:\\users\\hadib\\anaconda3\\lib\\site-packages (from langsmith<0.4,>=0.1.17->langchain) (3.10.15)\n",
      "Requirement already satisfied: requests-toolbelt<2.0.0,>=1.0.0 in c:\\users\\hadib\\anaconda3\\lib\\site-packages (from langsmith<0.4,>=0.1.17->langchain) (1.0.0)\n",
      "Requirement already satisfied: zstandard<0.24.0,>=0.23.0 in c:\\users\\hadib\\anaconda3\\lib\\site-packages (from langsmith<0.4,>=0.1.17->langchain) (0.23.0)\n",
      "Requirement already satisfied: annotated-types>=0.6.0 in c:\\users\\hadib\\anaconda3\\lib\\site-packages (from pydantic<3.0.0,>=2.7.4->langchain) (0.6.0)\n",
      "Requirement already satisfied: pydantic-core==2.27.2 in c:\\users\\hadib\\anaconda3\\lib\\site-packages (from pydantic<3.0.0,>=2.7.4->langchain) (2.27.2)\n",
      "Requirement already satisfied: charset-normalizer<4,>=2 in c:\\users\\hadib\\anaconda3\\lib\\site-packages (from requests<3,>=2->langchain) (3.3.2)\n",
      "Requirement already satisfied: idna<4,>=2.5 in c:\\users\\hadib\\anaconda3\\lib\\site-packages (from requests<3,>=2->langchain) (3.7)\n",
      "Requirement already satisfied: urllib3<3,>=1.21.1 in c:\\users\\hadib\\anaconda3\\lib\\site-packages (from requests<3,>=2->langchain) (2.2.3)\n",
      "Requirement already satisfied: certifi>=2017.4.17 in c:\\users\\hadib\\anaconda3\\lib\\site-packages (from requests<3,>=2->langchain) (2024.8.30)\n",
      "Requirement already satisfied: greenlet!=0.4.17 in c:\\users\\hadib\\anaconda3\\lib\\site-packages (from SQLAlchemy<3,>=1.4->langchain) (3.0.1)\n",
      "Requirement already satisfied: anyio in c:\\users\\hadib\\anaconda3\\lib\\site-packages (from httpx<1,>=0.23.0->langsmith<0.4,>=0.1.17->langchain) (4.2.0)\n",
      "Requirement already satisfied: httpcore==1.* in c:\\users\\hadib\\anaconda3\\lib\\site-packages (from httpx<1,>=0.23.0->langsmith<0.4,>=0.1.17->langchain) (1.0.2)\n",
      "Requirement already satisfied: sniffio in c:\\users\\hadib\\anaconda3\\lib\\site-packages (from httpx<1,>=0.23.0->langsmith<0.4,>=0.1.17->langchain) (1.3.0)\n",
      "Requirement already satisfied: h11<0.15,>=0.13 in c:\\users\\hadib\\anaconda3\\lib\\site-packages (from httpcore==1.*->httpx<1,>=0.23.0->langsmith<0.4,>=0.1.17->langchain) (0.14.0)\n",
      "Requirement already satisfied: jsonpointer>=1.9 in c:\\users\\hadib\\anaconda3\\lib\\site-packages (from jsonpatch<2.0,>=1.33->langchain-core<1.0.0,>=0.3.34->langchain) (2.1)\n"
     ]
    },
    {
     "name": "stderr",
     "output_type": "stream",
     "text": [
      "WARNING: Ignoring invalid distribution ~ympy (C:\\Users\\hadib\\anaconda3\\Lib\\site-packages)\n",
      "WARNING: Ignoring invalid distribution ~ympy (C:\\Users\\hadib\\anaconda3\\Lib\\site-packages)\n",
      "WARNING: Ignoring invalid distribution ~ympy (C:\\Users\\hadib\\anaconda3\\Lib\\site-packages)\n"
     ]
    }
   ],
   "source": [
    "!pip install faiss-cpu langchain\n"
   ]
  },
  {
   "cell_type": "code",
   "execution_count": 34,
   "id": "64cf8f8e-a595-48c2-af7e-7e24720e8dab",
   "metadata": {},
   "outputs": [],
   "source": [
    "import faiss\n",
    "import numpy as np\n",
    "from langchain.embeddings import OllamaEmbeddings\n",
    "from langchain.vectorstores import FAISS\n"
   ]
  },
  {
   "cell_type": "code",
   "execution_count": 35,
   "id": "6cb9030f-a449-487e-a0ef-e89d4d2eea97",
   "metadata": {},
   "outputs": [
    {
     "name": "stdout",
     "output_type": "stream",
     "text": [
      "✅ Loaded 2 PDFs with text chunks!\n"
     ]
    }
   ],
   "source": [
    "import pickle\n",
    "\n",
    "# Load pdf_chunks from the saved file\n",
    "with open(\"pdf_chunks.pkl\", \"rb\") as f:\n",
    "    pdf_chunks = pickle.load(f)\n",
    "\n",
    "print(f\"✅ Loaded {len(pdf_chunks)} PDFs with text chunks!\")\n"
   ]
  },
  {
   "cell_type": "code",
   "execution_count": 55,
   "id": "4c3b6998-71e5-4fd7-9581-4a3d6af2ec21",
   "metadata": {},
   "outputs": [],
   "source": [
    "from langchain_community.embeddings.ollama import OllamaEmbeddings\n"
   ]
  },
  {
   "cell_type": "code",
   "execution_count": 63,
   "id": "6ffd0783-4b4f-441a-88d8-205a1ec2ea21",
   "metadata": {},
   "outputs": [
    {
     "name": "stdout",
     "output_type": "stream",
     "text": [
      "model='gemma2:2b' created_at='2025-02-18T13:00:09.5235562Z' done=True done_reason='stop' total_duration=14234887800 load_duration=60946600 prompt_eval_count=12 prompt_eval_duration=160000000 eval_count=116 eval_duration=14008000000 message=Message(role='assistant', content='Please provide me with the text you want me to work with! 😊 I need something to process so I can help. \\n\\nFor example, you could ask me to:\\n\\n* **Summarize a piece of text:**  \"Can you summarize this news article?\" \\n* **Translate text:** \"Translate this sentence into Spanish.\"\\n* **Generate creative content:** \"Write a poem about the ocean.\" \\n* **Answer questions:** \"What is the capital of France?\" \\n\\nI\\'m excited to see what you have for me! ✨  \\n', images=None, tool_calls=None)\n",
      "Model Response: No content available\n"
     ]
    }
   ],
   "source": [
    "import ollama\n",
    "\n",
    "# Example: Chat with the Ollama model\n",
    "response = ollama.chat(model=\"gemma2:2b\", messages=[{\"role\": \"user\", \"content\": \"Your text here\"}])\n",
    "\n",
    "# Check the structure of the response\n",
    "print(response)  # This will print the full response object\n",
    "\n",
    "# Assuming the response contains 'content'\n",
    "text_content = response.get('content', 'No content available')\n",
    "\n",
    "print(\"Model Response:\", text_content)\n"
   ]
  },
  {
   "cell_type": "code",
   "execution_count": 69,
   "id": "679c0630-653b-4b3d-80e4-147005a788b4",
   "metadata": {},
   "outputs": [
    {
     "name": "stdout",
     "output_type": "stream",
     "text": [
      "Model Response: No content available\n"
     ]
    }
   ],
   "source": [
    "import ollama\n",
    "\n",
    "# Provide text to the model\n",
    "text_input = \"Generative AI is revolutionizing multiple industries, from content creation to scientific research. It enables the generation of high-quality, context-aware text, images, and even music, using large language models and deep learning techniques.\"\n",
    "\n",
    "response = ollama.chat(model=\"gemma2:2b\", messages=[{\"role\": \"user\", \"content\": text_input}])\n",
    "\n",
    "# Check the response content\n",
    "print(\"Model Response:\", response.get('content', 'No content available'))\n"
   ]
  },
  {
   "cell_type": "code",
   "execution_count": 76,
   "id": "ecf7eb1a-8427-4648-9ac3-4e382bfe0727",
   "metadata": {},
   "outputs": [
    {
     "name": "stdout",
     "output_type": "stream",
     "text": [
      "Full Model Response: model='gemma2:2b' created_at='2025-02-18T13:12:13.5130375Z' done=True done_reason='stop' total_duration=82970525800 load_duration=85826300 prompt_eval_count=15 prompt_eval_duration=180000000 eval_count=612 eval_duration=82702000000 message=Message(role='assistant', content='Let\\'s dive into the fascinating world of Deep Learning!\\n\\n**What is Deep Learning?**\\n\\nAt its core, deep learning (DL) is a subfield of artificial intelligence (AI) that focuses on enabling computers to learn from vast amounts of data just like humans do. \\n\\nThink of it this way:\\n\\n* **Traditional programming:** You explicitly tell the computer what to do, step-by-step (like writing detailed instructions).\\n* **Deep learning:** The computer is given tons of data and learns patterns and relationships on its own.  It\\'s like letting a child explore different toys and learn to identify their features without being told specifically how.\\n\\n**How does it work?**\\n\\n1. **Data, the Fuel:** Deep learning needs mountains of data (images, text, sounds, etc.). This data is fed into neural networks.\\n2. **Neural Networks: The Learning Machines:** Neural networks mimic the human brain\\'s structure, with layers of interconnected nodes that process information in a series of steps.  Each node makes its own small \"guess\" and passes the results on to the next layer. \\n3. **Learning Through Experience:** As data flows through this network, the connections between nodes are adjusted automatically. This is called \"backpropagation.\" The goal is to learn the best pattern that explains the data (and predict future outcomes).\\n\\n**What can deep learning do?**\\n\\nDeep learning has transformed numerous fields, enabling impressive feats like:\\n\\n* **Computer Vision:**\\n    * Recognizing faces in photos \\n    * Identifying objects and scenes from images\\n    * Analyzing medical images for diagnosis\\n    * Automating self-driving cars\\n* **Natural Language Processing (NLP):**\\n    * Generating human-quality text (like writing articles or emails)\\n    * Translating languages with unprecedented accuracy\\n    * Understanding emotions in text\\n    * Answering your questions in a helpful way\\n* **Other Applications:**\\n    * Drug discovery and development \\n    * Financial market prediction \\n    * Personalized recommendations \\n    * Creating realistic 3D models \\n\\n\\n**Key Concepts to Understand:**\\n\\n* **Convolutional Neural Networks (CNNs):** Specialized for image data, excel at recognizing patterns. Used in self-driving cars, medical imaging, and object detection.\\n* **Recurrent Neural Networks (RNNs):** Designed for sequential data like text or time series data.  Used in language translation, speech recognition, and forecasting.\\n* **Long Short-Term Memory (LSTM) networks:** Advanced RNN variant that handles longer sequences effectively. Used in tasks like machine translation and natural language understanding.\\n\\n**The Big Picture: AI\\'s Future Powerhouse**\\n\\n\\nDeep learning is revolutionizing the way we interact with technology and information.  It empowers computers to learn complex patterns and make increasingly accurate predictions, ultimately leading to more intelligent, autonomous machines. \\n\\n\\n\\nLet me know if you want a deeper dive into any specific aspect of deep learning!', images=None, tool_calls=None)\n"
     ]
    }
   ],
   "source": [
    "import ollama\n",
    "\n",
    "# Provide text to the model\n",
    "text_input = \"tell me about deep learning.\"\n",
    "\n",
    "response = ollama.chat(model=\"gemma2:2b\", messages=[{\"role\": \"user\", \"content\": text_input}])\n",
    "\n",
    "# Check the full response to understand its structure\n",
    "print(\"Full Model Response:\", response)\n",
    "\n",
    "# Extract and print the actual content if available\n",
    "\n"
   ]
  },
  {
   "cell_type": "code",
   "execution_count": 82,
   "id": "a140646b-ec4c-4a0a-a191-35efd34aa080",
   "metadata": {},
   "outputs": [
    {
     "name": "stdout",
     "output_type": "stream",
     "text": [
      "model='gemma2:2b' created_at='2025-02-18T13:17:10.520035Z' done=True done_reason='stop' total_duration=13422710800 load_duration=53647600 prompt_eval_count=12 prompt_eval_duration=372000000 eval_count=91 eval_duration=12992000000 message=Message(role='assistant', content='Please provide me with the text you would like me to work with!  \\n\\nFor example, you could say: \\n\\n* \"Write a poem about a cat.\"\\n* \"Summarize this article about climate change.\"\\n* \"Translate \\'hello world\\' into French.\"\\n* \"Give me examples of persuasive writing techniques.\"\\n\\n\\nI can help with many different tasks. I am excited to see what you have in mind! 😊 \\n', images=None, tool_calls=None)\n"
     ]
    }
   ],
   "source": [
    "response = ollama.chat(model=\"gemma2:2b\", messages=[{\"role\": \"user\", \"content\": \"Your text here\"}])\n",
    "print(response)  # Check the response structure\n"
   ]
  },
  {
   "cell_type": "code",
   "execution_count": 84,
   "id": "f1686cf4-c206-4725-9915-948264b429f9",
   "metadata": {},
   "outputs": [],
   "source": [
    "def get_embeddings(text_chunks):\n",
    "    embeddings = []\n",
    "    for chunk in text_chunks:\n",
    "        response = ollama.chat(model=\"gemma2:2b\", messages=[{\"role\": \"user\", \"content\": chunk}])\n",
    "        if \"embeddings\" in response:\n",
    "            embeddings.append(response[\"embeddings\"])  # Adjust to the correct key\n",
    "        else:\n",
    "            print(f\"No embeddings found for: {chunk}\")\n",
    "    return embeddings\n"
   ]
  },
  {
   "cell_type": "code",
   "execution_count": 88,
   "id": "bbe9103c-72b8-4643-b08d-71aa45365af1",
   "metadata": {},
   "outputs": [
    {
     "name": "stdout",
     "output_type": "stream",
     "text": [
      "Error: Embedding not found in the response for chunk: Your chunk of text here\n",
      "Error: Embedding not found in the response for chunk: Another chunk of text\n",
      "Error: Embedding not found in the response for chunk: Additional chunks\n",
      "Generated embeddings: []\n"
     ]
    }
   ],
   "source": [
    "import ollama\n",
    "import pickle\n",
    "\n",
    "# Define a function to get embeddings\n",
    "def get_embeddings(text_chunks):\n",
    "    embeddings = []\n",
    "    for chunk in text_chunks:\n",
    "        response = ollama.chat(model=\"gemma2:2b\", messages=[{\"role\": \"user\", \"content\": chunk}])\n",
    "        \n",
    "        # Assuming the embeddings are in 'embedding' key; adjust based on actual response\n",
    "        try:\n",
    "            chunk_embedding = response['embedding']  # Adjust if the response structure is different\n",
    "            embeddings.append(chunk_embedding)\n",
    "        except KeyError:\n",
    "            print(f\"Error: Embedding not found in the response for chunk: {chunk}\")\n",
    "    return embeddings\n",
    "\n",
    "# Example text chunks\n",
    "text_chunks = [\"Your chunk of text here\", \"Another chunk of text\", \"Additional chunks\"]\n",
    "\n",
    "# Get embeddings for the text chunks\n",
    "embeddings = get_embeddings(text_chunks)\n",
    "\n",
    "# Check the embeddings\n",
    "print(\"Generated embeddings:\", embeddings)\n"
   ]
  },
  {
   "cell_type": "code",
   "execution_count": 90,
   "id": "857988c4-3014-4c2d-a6db-8e76ada47c77",
   "metadata": {},
   "outputs": [
    {
     "name": "stdout",
     "output_type": "stream",
     "text": [
      "Full Response: model='gemma2:2b' created_at='2025-02-18T13:21:41.0658221Z' done=True done_reason='stop' total_duration=12351703600 load_duration=54535400 prompt_eval_count=14 prompt_eval_duration=417000000 eval_count=97 eval_duration=11879000000 message=Message(role='assistant', content=\"Please provide me with the text you would like to work with! 😄 \\n\\nOnce you share it, I can help you with things like:\\n\\n* **Summarizing:**  Condensing a long piece of text.\\n* **Translating:** Converting it into another language.\\n* **Editing:** Proofreading for grammar and clarity.\\n* **Answering questions:** Getting information from the text. \\n\\n\\nI'm excited to see what you have! ✨  \\n\", images=None, tool_calls=None)\n",
      "Error: Embedding not found in the response for chunk: Your chunk of text here\n",
      "Full Response: model='gemma2:2b' created_at='2025-02-18T13:22:01.6814456Z' done=True done_reason='stop' total_duration=20613294000 load_duration=84119200 prompt_eval_count=13 prompt_eval_duration=577000000 eval_count=160 eval_duration=19947000000 message=Message(role='assistant', content=\"Please provide me with the text you want to work with! 😊 \\n\\nI can help you with many things, such as:\\n\\n* **Summarizing:**  Give me a long piece of text and I'll condense it into a shorter version.\\n* **Translating:** If you need something translated into another language, let me know the source and destination languages.\\n* **Analyzing:**  I can analyze the text for sentiment, identify key themes, or even find any potential biases. \\n* **Writing creatively:** Do you need help with a story, poem, or song? \\n* **Answering questions:** I can answer your questions about the text based on my understanding of it.\\n\\n\\nJust paste the text here and let's get started! ✨ \\n\", images=None, tool_calls=None)\n",
      "Error: Embedding not found in the response for chunk: Another chunk of text\n",
      "Full Response: model='gemma2:2b' created_at='2025-02-18T13:22:21.9975445Z' done=True done_reason='stop' total_duration=20312494800 load_duration=77499600 prompt_eval_count=11 prompt_eval_duration=500000000 eval_count=159 eval_duration=19731000000 message=Message(role='assistant', content=\"Please provide me with more context!  \\n\\nI need to know what you're referring to in order to give you additional chunks. \\n\\nFor example, tell me:\\n\\n* **What kind of content are you working with?** (e.g., text, code, images, data)\\n* **What were the previous chunks about?**  (e.g., a piece of writing, a programming script, a set of data points)\\n* **What do you want to achieve with the additional chunks?** (e.g., expand on the existing content, generate new content based on it, complete a task related to it)\\n\\nThe more information you give me, the better I can understand your request and provide relevant and helpful additional chunks. \\n\", images=None, tool_calls=None)\n",
      "Error: Embedding not found in the response for chunk: Additional chunks\n",
      "Generated embeddings: []\n"
     ]
    }
   ],
   "source": [
    "import ollama\n",
    "\n",
    "# Define a function to get embeddings\n",
    "def get_embeddings(text_chunks):\n",
    "    embeddings = []\n",
    "    for chunk in text_chunks:\n",
    "        response = ollama.chat(model=\"gemma2:2b\", messages=[{\"role\": \"user\", \"content\": chunk}])\n",
    "        \n",
    "        # Print the full response to inspect its structure\n",
    "        print(\"Full Response:\", response)\n",
    "        \n",
    "        try:\n",
    "            # Adjust based on the actual response structure (e.g., 'embedding' might be under a different key)\n",
    "            chunk_embedding = response['embedding']  # Adjust if the response structure is different\n",
    "            embeddings.append(chunk_embedding)\n",
    "        except KeyError:\n",
    "            print(f\"Error: Embedding not found in the response for chunk: {chunk}\")\n",
    "    return embeddings\n",
    "\n",
    "# Example text chunks\n",
    "text_chunks = [\"Your chunk of text here\", \"Another chunk of text\", \"Additional chunks\"]\n",
    "\n",
    "# Get embeddings for the text chunks\n",
    "embeddings = get_embeddings(text_chunks)\n",
    "\n",
    "# Check the embeddings\n",
    "print(\"Generated embeddings:\", embeddings)\n"
   ]
  },
  {
   "cell_type": "code",
   "execution_count": 92,
   "id": "924a5793-6bcf-4e06-a048-b5101a6fa45f",
   "metadata": {},
   "outputs": [
    {
     "name": "stdout",
     "output_type": "stream",
     "text": [
      "embedding=[-1.676640272140503, -0.1239190623164177, -2.496641159057617, 0.454937607049942, 0.43848717212677, 1.0366910696029663, -1.9450401067733765, -0.6218540072441101, 0.06485427916049957, 0.8888434171676636, -1.2894160747528076, 0.7396615743637085, -0.30321359634399414, -0.854056179523468, 1.0641670227050781, -0.5651042461395264, -2.472820997238159, 0.373422235250473, -1.234542965888977, -0.24966108798980713, 1.9205607175827026, -1.2900893688201904, -1.1308220624923706, 0.9294586777687073, 0.9570057392120361, 1.1273200511932373, 1.095060110092163, 0.08833768218755722, -1.191346526145935, 0.09650437533855438, 1.027359962463379, -1.022641658782959, -3.0514843463897705, 1.5633560419082642, 0.21159198880195618, 1.3636926412582397, -1.8780066967010498, -2.168398857116699, 2.8732736110687256, -1.0329347848892212, 0.2694459557533264, 1.2367287874221802, 1.270944356918335, -0.2511902451515198, 0.9459575414657593, -2.1976749897003174, 3.9933271408081055, -0.09398636221885681, 2.197006940841675, -0.7823668122291565, -0.3012138605117798, -1.0842617750167847, -0.9208000898361206, -0.037409309297800064, -1.674067497253418, -1.4209328889846802, 0.5567387938499451, 2.5806045532226562, 1.421655535697937, -0.398229718208313, -2.6668701171875, 4.455273151397705, -1.0777803659439087, 0.17694133520126343, 1.0539698600769043, 0.6770628094673157, 0.6284726858139038, 1.0846410989761353, -1.6821284294128418, -0.087794728577137, -0.23647087812423706, 1.2171945571899414, -1.5541902780532837, -0.5088151097297668, -0.7787294983863831, -2.463207960128784, -2.770866870880127, -1.633616328239441, -1.9515233039855957, -2.4810454845428467, -0.19388042390346527, 0.7550272345542908, -0.46843844652175903, -0.8594422936439514, 0.6438486576080322, -1.9546562433242798, 0.8718603849411011, 0.08538395166397095, 1.037864089012146, 0.04778417572379112, -1.6801079511642456, -1.1714974641799927, 0.19042298197746277, 1.263566017150879, -1.2837510108947754, -0.8092849254608154, 1.985492467880249, 2.6527936458587646, -1.231191873550415, -0.6372835040092468, 2.819037675857544, 2.3885531425476074, -0.0917421281337738, 1.1845165491104126, -0.6450689435005188, -0.940191924571991, 0.7682342529296875, 0.002076792297884822, 0.2183500975370407, 0.7007204294204712, 0.5476282835006714, 1.1061599254608154, -0.9118584990501404, 0.7134274840354919, 2.2672431468963623, -1.588839054107666, 1.6047683954238892, 2.0257692337036133, 0.6547977924346924, 1.2915146350860596, -0.30080103874206543, -2.7584495544433594, -2.8757948875427246, -1.2475284337997437, 0.43908536434173584, -0.8088268041610718, -1.868343710899353, 0.6408987045288086, 0.4231114983558655, -1.6866031885147095, 3.3313663005828857, 1.1076383590698242, 0.36113646626472473, 0.05563358590006828, 1.237194299697876, -1.634229063987732, -1.3553191423416138, 0.8005833625793457, -0.9823010563850403, 0.7930882573127747, 0.09133490920066833, -2.151341676712036, -0.9142802953720093, -1.0948078632354736, 0.7759885191917419, -3.907602310180664, -1.3324083089828491, -0.5335392951965332, 2.310758590698242, -0.4866432845592499, 0.5424428582191467, 0.41942620277404785, 0.18931683897972107, 0.49999526143074036, 0.5470759868621826, -0.653560221195221, 1.2304773330688477, 1.196643352508545, -0.11376005411148071, -2.024179697036743, 1.2970808744430542, -0.1535647064447403, -3.166048288345337, -1.0938689708709717, 0.9478766322135925, 0.15693412721157074, 1.200100302696228, -2.109333038330078, -1.807745099067688, -0.6847934126853943, -0.30457454919815063, 4.016597747802734, 0.7353591918945312, 0.9978851079940796, 1.7705926895141602, 0.9274066090583801, 0.42192769050598145, -1.304023265838623, -0.34799274802207947, 0.9970182776451111, 0.7508132457733154, -0.4232194423675537, -0.9318063855171204, -0.20506875216960907, 36.183189392089844, 1.046136736869812, 0.4123562276363373, -0.9552567005157471, 1.2090667486190796, -0.09787540882825851, 0.08092951029539108, 3.700871706008911, -0.5446467399597168, -1.5302859544754028, -1.1967800855636597, 0.8254754543304443, -1.7540935277938843, -0.25825604796409607, 0.7432619333267212, -0.7589735388755798, 0.8703374862670898, 1.56851065158844, -0.34096792340278625, 4.279041767120361, 2.1407573223114014, 2.2570948600769043, -4.695972442626953, 1.7998580932617188, 2.5853049755096436, 0.25414982438087463, -0.34857699275016785, -0.7165252566337585, -0.9236109852790833, -1.876776933670044, -0.9914395809173584, -1.154768943786621, 0.11933055520057678, -1.6715295314788818, 0.0028992914594709873, 0.4600631594657898, 1.6066261529922485, -0.42841896414756775, 0.7162764072418213, 2.1132562160491943, -1.3034062385559082, -0.09416548907756805, 1.233163595199585, -0.891196608543396, 0.0825858935713768, -2.292278289794922, 0.8928596377372742, -1.0967084169387817, 0.9447584748268127, -3.253284454345703, -1.1101088523864746, 0.007621066179126501, -1.2315311431884766, 2.0620551109313965, 0.4271177053451538, -2.147376775741577, -1.7237097024917603, 2.662081480026245, -0.872873842716217, -0.49316075444221497, 1.7825390100479126, -0.24371711909770966, 2.3169820308685303, 0.398811399936676, 1.6923234462738037, -2.8220009803771973, -0.5782006978988647, 2.119856595993042, 0.7952443957328796, 0.03857012465596199, 0.6633324027061462, -1.7153973579406738, -0.5203817486763, -1.422634243965149, -0.932482123374939, 3.6915955543518066, -0.087371326982975, 1.904793381690979, -5.291481018066406, 1.2257062196731567, -1.5794081687927246, -1.1531977653503418, 0.8839747905731201, 1.1649229526519775, -1.7825613021850586, 0.22300812602043152, -2.5712687969207764, 0.9055119752883911, 0.5306726098060608, 1.0634510517120361, 1.2987216711044312, -0.6984419226646423, -3.294826030731201, 1.8531509637832642, -0.369933158159256, -0.10564537346363068, 0.48483309149742126, 0.17765690386295319, 1.4237048625946045, 0.6559913158416748, -0.9189000725746155, -0.60096275806427, -0.23219554126262665, -1.2157562971115112, -0.5130811333656311, 1.5604950189590454, 0.043317604809999466, 0.09779981523752213, -1.2857259511947632, 0.2769533097743988, 0.08040966093540192, -0.2690677046775818, 0.4959031939506531, -0.7658857107162476, 0.2200477123260498, 1.7739337682724, -3.856900691986084, 0.13166265189647675, -1.6572880744934082, -0.5731069445610046, -3.9902615547180176, 1.2181779146194458, -0.2716858386993408, 0.0717611089348793, -2.049799680709839, 1.348529577255249, -0.5618117451667786, 1.933802604675293, 0.47580331563949585, 0.19372926652431488, -1.3118813037872314, -1.4137542247772217, -0.978901743888855, -0.7811704874038696, 2.7928285598754883, -1.1210581064224243, -2.8336474895477295, -1.8088499307632446, 0.8174113035202026, -0.9304395914077759, -1.2707505226135254, -2.069103956222534, -0.3744804263114929, -0.10481743514537811, 2.6064441204071045, 1.3746190071105957, -1.0824593305587769, 10.122920989990234, -0.8092653155326843, 4.3493123054504395, 2.304111957550049, -0.9721473455429077, -0.9918514490127563, -2.150848627090454, -0.3410058915615082, -1.8457746505737305, 1.802381992340088, -1.2648835182189941, 1.5942473411560059, -0.3313692808151245, -4.307853698730469, -1.3249778747558594, -0.22690929472446442, 2.1050219535827637, 1.0144027471542358, -3.3661184310913086, -0.7467190623283386, -2.490217924118042, 0.04945330321788788, -0.2513909637928009, 0.8652142286300659, 3.164238452911377, 1.0643380880355835, -1.5059113502502441, 0.010499265044927597, -0.4278271198272705, 1.8586499691009521, 1.213304042816162, 0.5628028512001038, 1.733838677406311, 4.453915119171143, -0.9136225581169128, -1.826041579246521, -3.0220110416412354, 0.10560829937458038, 0.24974769353866577, -0.7300072908401489, -0.446271151304245, -1.329687476158142, -0.019970253109931946, 4.4778594970703125, 0.8457882404327393, 0.9417631030082703, 0.3298158645629883, 1.2779254913330078, 0.7807945013046265, -0.4881548285484314, -2.376500368118286, 2.2131385803222656, -0.5474697351455688, 3.089607000350952, 2.002453327178955, -0.3510991930961609, 1.5048556327819824, 0.28857702016830444, 2.0210962295532227, 0.10472926497459412, 0.7054247260093689, -1.5585392713546753, 1.5847299098968506, 0.8277689814567566, -1.8458629846572876, 1.8989335298538208, 2.4957823753356934, 3.408447265625, -1.864090919494629, -1.0915451049804688, 0.9254345893859863, 0.6994134783744812, -1.7808890342712402, 0.09586151689291, 0.7545140981674194, 0.748959481716156, -0.797423243522644, -1.124777913093567, -1.895614504814148, -0.6181366443634033, -0.9261054992675781, -0.5662245750427246, 1.367210030555725, 0.16940878331661224, 0.028951821848750114, -1.2058085203170776, -1.4164413213729858, 3.432695150375366, 0.7962855100631714, 2.254072904586792, 2.3723316192626953, 0.8664036393165588, -1.512176275253296, -0.88890540599823, -2.099808931350708, -0.2894164025783539, 0.1067715659737587, -1.1204662322998047, 0.23351942002773285, -5.031802654266357, 0.30895817279815674, 2.5808680057525635, -2.8539555072784424, 0.31548500061035156, 0.9785646200180054, -2.031323194503784, 1.3494176864624023, 2.5238418579101562, -0.2664371132850647, -1.7698829174041748, 1.8295342922210693, 2.612133264541626, -2.3357014656066895, 1.4884123802185059, 0.05925978347659111, 1.822486400604248, 1.3329353332519531, -1.8118565082550049, 0.09963957965373993, 0.5519890785217285, -2.0715835094451904, 2.5303051471710205, -1.4907031059265137, 1.08548104763031, -1.009627103805542, 0.2622275948524475, 2.4469544887542725, 0.8049388527870178, 0.7358628511428833, -1.9507532119750977, 0.9206892251968384, 1.374682068824768, -0.8616611361503601, -0.9110839366912842, -1.7205315828323364, 0.7882301807403564, -1.8816426992416382, -1.2807615995407104, -1.6242125034332275, 1.5205869674682617, 0.14618858695030212, 1.6363639831542969, 0.6878849864006042, -1.196528673171997, 1.9051088094711304, 2.200587511062622, -3.213576078414917, -0.3913007378578186, 0.5423611402511597, 1.0357227325439453, -2.362581729888916, -1.411423921585083, -0.050183385610580444, -0.1272927224636078, -0.9674949645996094, -0.06740796566009521, 1.208393931388855, -0.37327009439468384, 1.2930738925933838, -0.5027974247932434, 0.7154816389083862, 0.3389628231525421, -1.0471781492233276, -0.9931452870368958, 3.262462854385376, -1.266416072845459, -1.0511128902435303, -3.3388142585754395, -0.4170389175415039, 1.2127134799957275, 1.6492458581924438, 0.5293234586715698, 0.9512896537780762, 1.8802049160003662, -1.1231720447540283, -1.3963966369628906, 0.9479319453239441, -1.465889811515808, -1.1600401401519775, 0.6273247003555298, -2.1890056133270264, 0.11211259663105011, -0.41125184297561646, 0.07860711961984634, 0.5727508068084717, 1.4560424089431763, 0.9583075642585754, -1.312973976135254, -1.0303736925125122, -0.8457241058349609, 1.2330619096755981, -0.017921345308423042, 2.6634891033172607, 0.8749299049377441, 1.0704786777496338, 0.7108330726623535, 1.0126625299453735, -1.0334104299545288, 0.8347487449645996, -2.9567461013793945, -2.145935297012329, -0.902677059173584, 2.174830198287964, -0.412188857793808, 0.2700851559638977, -0.6445517539978027, -3.3790674209594727, 0.0899835079908371, 0.2093806266784668, 5.7567644119262695, 1.3328099250793457, -1.420094609260559, 0.19915467500686646, -1.0624607801437378, 0.09144692867994308, -1.1704775094985962, 0.11915681511163712, 2.142451047897339, 0.27623051404953003, -0.09333880245685577, -0.5591263771057129, -2.242820978164673, -1.5808639526367188, -0.7061915993690491, 0.6392048597335815, -0.3197416067123413, -1.7081124782562256, -2.5774195194244385, 2.617866277694702, -0.50834721326828, -0.39180788397789, 2.9260525703430176, 2.2970123291015625, -0.05197880044579506, 0.6533885598182678, -3.0510268211364746, -0.8702338337898254, 0.3644520044326782, -0.398912638425827, 2.3213589191436768, 0.3191153407096863, -0.8259579539299011, -2.2283992767333984, -2.296590566635132, 2.0983307361602783, -0.058688048273324966, 1.5988316535949707, 1.5256327390670776, 1.3584080934524536, -2.5263543128967285, 3.3830413818359375, 1.11943781375885, 2.0940518379211426, -0.20849743485450745, 0.1532912701368332, 0.05494297295808792, 1.3801594972610474, 0.7776414155960083, -1.660867691040039, 1.7493069171905518, -1.1996657848358154, -2.4056947231292725, 49.15363311767578, 3.0283331871032715, 0.1376149207353592, -1.1890605688095093, -1.7532668113708496, -0.5389600396156311, -1.628303050994873, 1.38753342628479, -3.584674835205078, -0.461536705493927, 2.0735719203948975, 0.17226539552211761, 2.385226249694824, -1.1303093433380127, -2.360078811645508, 0.4918403625488281, 1.4239678382873535, 0.8485840559005737, -0.7608357071876526, 0.7506106495857239, 0.8713813424110413, 0.47379210591316223, -1.6390246152877808, -2.50899600982666, 1.9104448556900024, -0.9744383692741394, -2.5102038383483887, 1.0586689710617065, -0.5234397649765015, 0.42781585454940796, 1.5329906940460205, 0.3450227379798889, -0.6576961874961853, -0.8620257377624512, 0.33961302042007446, -1.7779591083526611, 1.054474115371704, 2.325228214263916, -2.277160406112671, -1.9379074573516846, -0.3461907207965851, 0.7730731964111328, -0.00241987407207489, 1.0268542766571045, 0.9320855140686035, 0.3774794042110443, -0.6137776970863342, 1.7060599327087402, -2.3037917613983154, 2.0381622314453125, 0.2794288098812103, -0.24218395352363586, -1.036993384361267, 2.112271785736084, -1.2147786617279053, -2.4246327877044678, 0.2378918081521988, -4.359134674072266, -0.17886941134929657, 0.7045237421989441, -3.697417736053467, -1.2764251232147217, -0.027618499472737312, -1.7971510887145996, -1.4583487510681152, -0.3932928740978241, 0.02286667935550213, -1.332464337348938, 0.05935325101017952, -1.3801270723342896, -0.039247579872608185, 0.2221379578113556, 0.4209381341934204, 4.383491516113281, -0.9888179898262024, -0.14936229586601257, -1.5880218744277954, -0.34087345004081726, -0.2445620596408844, -2.6521365642547607, -1.707425832748413, 0.11770565807819366, -0.23533912003040314, -2.6434779167175293, 2.1107187271118164, 3.7689054012298584, -0.34773093461990356, -1.8044861555099487, -0.2158973515033722, 1.6777862310409546, 1.9103044271469116, 0.33962130546569824, -1.6900485754013062, 1.1114755868911743, -0.7447724938392639, -0.4297690689563751, -44.01407241821289, 0.6158890724182129, 1.2606536149978638, -0.27165815234184265, -0.20741677284240723, -0.3214043974876404, -0.863634467124939, 1.7521597146987915, -0.001752436626702547, -1.576399564743042, -0.3034462332725525, 0.44724687933921814, 1.1457056999206543, 0.0728648379445076, -2.0102295875549316, 0.8963938355445862, -0.10744938999414444, -2.8362133502960205, 0.2973935902118683, 0.2144715040922165, 2.684113025665283, 0.5631610155105591, 0.20260769128799438, 1.6719504594802856, -1.195175051689148, -0.5572940707206726, 0.8525245189666748, 0.9916566610336304, -0.4437267482280731, 2.0920145511627197, -1.3516405820846558, -0.4268934428691864, 0.8882866501808167, -1.1892746686935425, -0.23078608512878418, 0.5772475004196167, -1.2301770448684692, -0.11272213608026505, -1.801724910736084, -1.5763615369796753, 0.09087193012237549, -0.12109584361314774, 0.4582092761993408, 0.10444985330104828, -1.81125807762146, -0.4764332175254822, -6.571780204772949, 1.264865517616272, -1.6587891578674316, 1.378186821937561, -1.8730028867721558, -1.336081862449646, 0.6258894205093384, 1.8391276597976685, -0.29257190227508545, 1.156328797340393, -0.605583906173706, -0.21939373016357422, 1.1797608137130737, -2.5622506141662598, 0.6632925868034363, -2.709367036819458, 3.4643640518188477, 1.7983009815216064, 0.3770216703414917, -2.3927206993103027, -1.0270462036132812, -0.7447342872619629, 0.0884760394692421, 2.4814109802246094, -0.36773866415023804, 0.42877036333084106, 1.4483169317245483, 1.2409814596176147, 0.6969015002250671, 0.32395288348197937, 0.49660447239875793, 0.2449766993522644, 0.7220474481582642, -0.5051031112670898, 0.12521640956401825, -0.22438760101795197, 1.0710822343826294, -2.6055328845977783, -0.7544277310371399, -2.1739866733551025, 2.2631380558013916, 1.4827300310134888, 1.052038550376892, 31.797700881958008, 0.6499873995780945, -0.004559145774692297, 1.400139570236206, 0.8895605206489563, -1.9350920915603638, -0.04509616270661354, 0.5690392255783081, -0.7175363898277283, -1.4683077335357666, 0.8287426829338074, -2.0023863315582275, 3.0043044090270996, -1.742564082145691, 1.3018159866333008, -1.281015157699585, -0.2755235731601715, 1.4112942218780518, -0.8541280031204224, 0.09882157295942307, 2.5726475715637207, 1.4368176460266113, 1.2567925453186035, 2.440903425216675, -0.32314395904541016, 1.3350417613983154, -2.8581717014312744, 0.34114453196525574, 0.12282714247703552, -0.1731037050485611, 0.28001168370246887, -0.49475154280662537, 1.2912955284118652, 3.2591352462768555, 0.1243085116147995, 0.2872775197029114, 0.9221012592315674, 7.34946346282959, 56.05838394165039, 0.6310085654258728, -0.5050494074821472, 0.7713431715965271, 1.3378545045852661, -0.3574756383895874, -1.2651679515838623, 1.8107088804244995, 0.8279975652694702, 3.6177170276641846, -2.61824893951416, 0.20102161169052124, 1.7124117612838745, 2.3473260402679443, 1.2893803119659424, 0.7295239567756653, -1.7201941013336182, 38.28014373779297, 0.06054684519767761, -2.1718671321868896, 2.243135690689087, 1.57131826877594, 1.1272281408309937, -0.8997443914413452, 0.540138840675354, -1.690697193145752, 4.924930572509766, -2.5510947704315186, 0.8591885566711426, 0.11048257350921631, -1.927117109298706, -1.4864048957824707, -0.2802554666996002, 1.7741130590438843, -1.3177911043167114, -2.2316629886627197, -3.983199119567871, 2.1339101791381836, -0.23811674118041992, 0.9476470351219177, 0.8340179324150085, 0.9450201988220215, -1.899439811706543, -0.10653217881917953, 1.2670634984970093, -1.1332696676254272, 0.34851884841918945, 0.4985177516937256, -1.0494877099990845, -1.380181908607483, 0.6085372567176819, 1.8175262212753296, -2.2021689414978027, -0.556240975856781, -0.4349009692668915, 0.16242553293704987, -5.070168495178223, 0.15525221824645996, -1.934094786643982, -0.006644546054303646, -0.8241298198699951, -1.2286187410354614, -0.4384119510650635, 0.9307250380516052, 2.7721030712127686, 1.5376100540161133, 0.7066439390182495, -2.082447052001953, 3.5644896030426025, -2.98203444480896, 1.445881962776184, 0.6930021643638611, -1.9874814748764038, -2.8420379161834717, -0.4160194993019104, 0.09167341887950897, 0.3404945433139801, 0.5424098968505859, -0.17076198756694794, 1.5485962629318237, -1.1044801473617554, 2.3965158462524414, 0.3336796164512634, -1.2079882621765137, 0.7874638438224792, 3.0032148361206055, 0.4606412351131439, 0.752549409866333, -0.7620426416397095, -2.1478211879730225, 1.7531805038452148, -1.892417550086975, -1.0169165134429932, -1.4969801902770996, 0.14485591650009155, -0.8439556956291199, 2.7020668983459473, 2.2219746112823486, 1.564751148223877, 0.5969792604446411, -2.0142993927001953, -2.3373422622680664, 0.2305317372083664, 1.8239320516586304, 1.2606265544891357, -1.4465359449386597, -2.130585193634033, -0.3336891233921051, -0.14645911753177643, -0.26913559436798096, -0.5357412695884705, 1.22604501247406, 1.6193923950195312, 0.9266633987426758, -4.314328193664551, 0.514919102191925, 0.2745608687400818, 0.14317744970321655, -0.7039151787757874, 1.7025824785232544, -1.9981367588043213, 0.5412582159042358, 0.6852988004684448, -1.1349848508834839, 0.7593079805374146, 0.03924204036593437, 0.3355086147785187, 1.0555914640426636, 3.9406518936157227, 0.5961226224899292, -1.4079077243804932, 0.4021654725074768, 0.3217045068740845, -0.10240092128515244, 1.245005488395691, -2.072596311569214, -3.863178014755249, -0.5055094361305237, 1.8995370864868164, -1.2865928411483765, -4.6223297119140625, 0.6697863340377808, -1.3558238744735718, 0.8657028675079346, 2.0303847789764404, -0.868667483329773, 1.9476443529129028, 0.42226600646972656, -2.476867914199829, 1.3313997983932495, -2.8105640411376953, 0.6463391780853271, -3.50781512260437, 0.21315866708755493, -1.6315786838531494, -0.9257180690765381, -3.7106118202209473, -0.22737936675548553, 1.3672306537628174, -2.3205978870391846, -20.62401008605957, 0.8622061014175415, -1.4170595407485962, -0.3079822063446045, 1.806828498840332, 0.9892798066139221, -2.003096103668213, 1.7652791738510132, -0.14442752301692963, -0.6133493185043335, 0.6607692837715149, 1.3568034172058105, 1.2022126913070679, -0.6086814403533936, -2.275580644607544, -0.6051561236381531, -1.05290687084198, 0.34519094228744507, 0.04734375327825546, -0.24885870516300201, 0.3686923384666443, 0.7550476789474487, 2.0958614349365234, 0.8512853384017944, -1.5347468852996826, -0.7377578616142273, -0.047875650227069855, 0.9911872744560242, 0.8939160108566284, 0.0929822251200676, 0.7069538831710815, -0.02137627638876438, 3.5057899951934814, 1.607866883277893, 1.8789997100830078, -1.1509844064712524, -2.0431928634643555, 0.3271975517272949, -0.6744344234466553, 0.623191773891449, 1.8140618801116943, -2.015442132949829, 3.526270866394043, 1.7890756130218506, 2.2565314769744873, -1.0811817646026611, 1.4020559787750244, -2.683279275894165, 0.7927682995796204, -2.600637197494507, 0.013004296459257603, 1.764119029045105, 2.0189385414123535, 1.8289365768432617, -3.4095804691314697, -5.609191417694092, 0.22203493118286133, -1.1494265794754028, -1.1217923164367676, -0.6569592952728271, -1.5803855657577515, -3.6154677867889404, 1.9813156127929688, 1.627547264099121, -2.2753918170928955, -2.480649709701538, -1.1983296871185303, 1.5414307117462158, 0.4348164498806, 0.5792422294616699, -5.172248840332031, -1.3034816980361938, 1.1978774070739746, -0.44143348932266235, 1.1279305219650269, -2.0201215744018555, -1.7666940689086914, -1.4368802309036255, -0.11293966323137283, -1.0111572742462158, 0.28847458958625793, 2.1109778881073, 2.417663335800171, 1.5211825370788574, -0.5135760307312012, 1.2619013786315918, -2.075500726699829, -2.424262762069702, -1.435089349746704, 1.0859854221343994, -0.6720610857009888, 1.5809239149093628, -0.32686975598335266, 0.15521448850631714, 1.7964009046554565, 0.9957601428031921, 1.2190879583358765, -3.438683271408081, -0.7391877770423889, 0.904380738735199, -3.113281488418579, 2.8753232955932617, -0.4911234378814697, -0.05034026876091957, -1.034144401550293, -1.4706826210021973, -0.13885191082954407, 0.09057559072971344, -0.5597454905509949, 0.10441680997610092, -2.3183584213256836, 2.2349092960357666, -1.4185632467269897, 0.43788573145866394, 1.0064629316329956, 0.5545325875282288, 0.40482378005981445, 2.085660696029663, -1.3290660381317139, 0.06597419828176498, -2.6462600231170654, 1.3630520105361938, -0.9857923984527588, 0.42485013604164124, 0.7139795422554016, -4.203614711761475, 1.8192212581634521, -1.4016367197036743, -1.0218889713287354, -1.4780268669128418, 0.8008307218551636, -1.0384999513626099, 2.386622428894043, -0.6271402835845947, -0.22889603674411774, 0.6167053580284119, -1.468223214149475, -2.6127989292144775, -0.6713163256645203, 1.0572974681854248, 3.6645729541778564, -0.0965350866317749, -2.4298760890960693, 3.3326892852783203, -3.17889404296875, 1.1719059944152832, 0.9745194911956787, -1.1905115842819214, -0.3656434416770935, 0.4033447206020355, -0.8873003721237183, -1.2181406021118164, 3.7198445796966553, -0.8191416263580322, 0.5600720643997192, 1.7212575674057007, 0.11848713457584381, -0.969465970993042, 2.252838611602783, -0.5091667175292969, -2.1847422122955322, 1.800336241722107, -1.2641961574554443, 0.8107346892356873, -1.250002145767212, 0.8021162748336792, -12.892984390258789, -1.67189621925354, 0.298805296421051, 0.17692133784294128, 3.064246654510498, 1.7917664051055908, 2.126286506652832, 5.345623970031738, -0.24524545669555664, 2.8642354011535645, -1.1401546001434326, 0.1326916366815567, 1.866356372833252, 2.073702335357666, -2.8897178173065186, 2.0563676357269287, 0.3690645098686218, -0.6623482704162598, 0.8527131080627441, 1.5882033109664917, -1.0481587648391724, -0.8221357464790344, -0.42770880460739136, -0.30858904123306274, 0.07064632326364517, 0.3767690360546112, 0.422821044921875, 1.452362298965454, 1.4009273052215576, 0.15228845179080963, 0.7239717841148376, 27.6706600189209, -1.9984148740768433, 0.019479593262076378, -0.7554117441177368, 1.340046763420105, -0.42352452874183655, 0.5891780257225037, 0.353925883769989, -1.1310871839523315, 0.9557763338088989, -1.2595205307006836, -0.5255398154258728, -1.314448356628418, 2.006753444671631, -2.0200417041778564, 0.3667619526386261, 0.10070948302745819, 0.477900892496109, 1.216376543045044, 1.2015089988708496, 0.6226063370704651, 1.9006298780441284, 0.45992976427078247, -0.9788386225700378, -1.192150354385376, -2.0857810974121094, -0.27752751111984253, 0.9304363131523132, -4.617051601409912, -3.7082788944244385, 2.1379523277282715, -0.443652868270874, -0.9150406718254089, -2.9698731899261475, 0.5745100975036621, 1.0164111852645874, 0.7464666962623596, 2.1074886322021484, -0.28929075598716736, -0.007085469551384449, -0.26870211958885193, 2.7866413593292236, 0.8651658296585083, -0.5325519442558289, -2.312622547149658, 1.039490818977356, -2.1810903549194336, 1.5282620191574097, 0.8364298939704895, 1.8058668375015259, 1.3285518884658813, -0.44241660833358765, -2.10724139213562, -0.36151322722435, -6.234591484069824, 1.020085334777832, -0.07919692993164062, -0.6062464118003845, -0.7700062394142151, -0.5868799090385437, 0.9501379728317261, 1.4857810735702515, 1.9645280838012695, 1.848124384880066, 0.035531509667634964, 1.5154129266738892, 0.009013943374156952, 6.276303291320801, 0.03035585954785347, 0.4726419746875763, -0.09068366140127182, -2.9731805324554443, 0.42208290100097656, 0.379500150680542, 1.147457480430603, 3.6415975093841553, -2.8016388416290283, -0.3429550230503082, 2.1642355918884277, 0.1947258561849594, 0.9764276742935181, -0.894229531288147, 0.0635637491941452, -2.9846251010894775, 1.7820230722427368, 1.4353407621383667, -0.3782559335231781, -0.5947139859199524, 1.3595420122146606, -0.48481491208076477, -0.7452660202980042, 2.4985110759735107, 0.6786412000656128, -2.27241587638855, -1.2427949905395508, 1.3132950067520142, -1.049827218055725, -1.8794384002685547, 1.8762147426605225, -0.8223885297775269, -1.842442274093628, 1.2253426313400269, -1.850664496421814, -2.7410526275634766, -2.620082139968872, 0.8953148126602173, 2.0042543411254883, -0.79635089635849, 1.856451153755188, 0.23263411223888397, 0.48390427231788635, -0.5714462399482727, 2.2805752754211426, -1.7254822254180908, -2.4914586544036865, -2.6351475715637207, 0.8679231405258179, 0.5611785650253296, 2.4521939754486084, -2.4592552185058594, -1.8870525360107422, -2.74212908744812, 0.22669434547424316, -5.490255355834961, 2.76940655708313, 1.4743849039077759, 1.7426092624664307, 4.827420711517334, -0.6681535243988037, -1.533876895904541, -1.9613945484161377, -28.892566680908203, 1.800102710723877, -0.05535285547375679, 3.48833966255188, -0.8999723792076111, -0.7113269567489624, -1.441758155822754, -1.8798258304595947, 2.772773504257202, 1.2942898273468018, -0.1581631302833557, -2.4077751636505127, 0.04403755068778992, 1.6766201257705688, 0.2407018542289734, -1.2116414308547974, -0.8808664083480835, -1.4709885120391846, 2.663578987121582, -0.7630087733268738, 1.1417629718780518, -0.9760355353355408, 1.9449235200881958, -0.3578234612941742, -2.126710891723633, -0.9604564905166626, -1.342820644378662, -0.9330574870109558, -1.8055419921875, -1.5070339441299438, -0.14770829677581787, -0.26400262117385864, 2.0507023334503174, -0.49273160099983215, 0.23001572489738464, -1.4409942626953125, 0.8375323414802551, 2.0398991107940674, 1.64857816696167, 1.2952920198440552, -0.3575834631919861, -3.6133646965026855, -1.3728421926498413, -1.966584324836731, -0.5224922299385071, -4.61809778213501, 1.7074064016342163, -3.7908754348754883, 0.39533376693725586, 1.057420015335083, 0.19185659289360046, -0.9015707969665527, 1.6442465782165527, 0.33807769417762756, -4.769272804260254, -0.8760027885437012, -1.5330584049224854, -0.7603919506072998, 2.641516923904419, -0.819774866104126, 1.0068812370300293, 4.092364311218262, -0.22921282052993774, 1.2209943532943726, -9.34423828125, 1.0887548923492432, -1.6617207527160645, -0.9091595411300659, 1.4942607879638672, -1.3723686933517456, 0.8806990385055542, 1.749010682106018, -0.380034476518631, -3.4445722103118896, 0.2935560941696167, -0.19234509766101837, -5.40922212600708, 0.12429757416248322, 0.6657738089561462, -0.195716992020607, -0.32947447896003723, 2.840395927429199, -0.573508620262146, 0.45763665437698364, -1.49552583694458, -2.056145429611206, -0.17680250108242035, 1.2009474039077759, -0.578384518623352, -8.203996658325195, -0.9566469788551331, -0.8305647969245911, -1.2691935300827026, 2.5103940963745117, 0.43758076429367065, -0.40368884801864624, -1.354264259338379, -0.8670795559883118, 0.6155397891998291, -2.4519708156585693, 2.1392903327941895, -1.5862913131713867, -1.0853863954544067, 1.068475604057312, -0.8754702210426331, -0.9412155151367188, -0.2953883111476898, 24.466856002807617, 1.4301310777664185, -1.740594506263733, 0.3486533463001251, 2.3305342197418213, 0.9682247638702393, 0.731113851070404, 2.5435211658477783, -0.22220604121685028, -0.7001178860664368, 2.3385536670684814, 0.4892173111438751, 1.5142699480056763, -0.19705872237682343, 1.7111879587173462, -1.5760681629180908, -1.4623140096664429, 0.5272929072380066, -1.234824538230896, -0.2625277638435364, -1.14679753780365, -3.1576075553894043, 0.24326814711093903, 1.9254236221313477, 2.2847988605499268, 0.9824899435043335, 0.39067554473876953, 0.9666748642921448, 1.858241081237793, -2.1640498638153076, -1.4447606801986694, -0.8060275912284851, -2.4361343383789062, -0.77671217918396, 2.5364370346069336, 0.3227805495262146, -0.7050873041152954, 0.283890038728714, 0.628124475479126, 0.12179715186357498, 2.1345596313476562, 0.23286081850528717, -0.8732712268829346, -1.1808218955993652, 2.139293670654297, 0.3786139488220215, -0.09161780774593353, 12.962672233581543, -2.5888326168060303, -0.8222189545631409, 0.2874877154827118, 0.5330444574356079, -0.00659249909222126, 0.7234474420547485, -1.591954231262207, -0.8147674202919006, -2.6793406009674072, 1.2507063150405884, 0.35649192333221436, 1.4039838314056396, 0.9839653968811035, 1.7426365613937378, 0.08843531459569931, 2.927161455154419, 2.2528676986694336, -2.7442777156829834, 0.3069443106651306, 0.06819648295640945, -0.38981863856315613, 0.372608482837677, 0.6281565427780151, 1.2787116765975952, -0.33272528648376465, 2.236731767654419, -2.774900197982788, 1.2236217260360718, -3.0488080978393555, 3.634716510772705, 3.4480485916137695, 0.12136077880859375, 2.12105655670166, -1.8287980556488037, 0.6281824111938477, -1.5753638744354248, 1.2299848794937134, -1.0520451068878174, 0.1882326751947403, 0.4126034677028656, 1.7472370862960815, -1.2216699123382568, 0.08545343577861786, 1.878711223602295, 2.2184481620788574, 1.3393573760986328, 1.6132769584655762, 1.8988808393478394, -0.03326226398348808, 0.3655858337879181, -1.3599810600280762, -1.027299404144287, 0.6134176850318909, -1.0523313283920288, -0.7938820719718933, 18.50596046447754, -0.07040643692016602, -1.7602324485778809, -2.985558032989502, 1.255019187927246, -0.08301009982824326, 0.4829781949520111, -2.3399136066436768, 0.053284332156181335, -1.3322936296463013, -4.141272068023682, -2.016453981399536, 1.2895793914794922, 2.231691837310791, 2.8613154888153076, -0.3230515122413635, -0.5107384324073792, 0.7768569588661194, 1.3252770900726318, 2.1649205684661865, 0.10148540139198303, -14.255084991455078, 0.8370197415351868, -0.7211250066757202, -2.155330181121826, 3.220520257949829, 0.6609492301940918, -1.579416036605835, 1.7143281698226929, -0.20731602609157562, -2.242082357406616, 1.4209483861923218, -1.1101562976837158, -5.80313777923584, 1.5779411792755127, -0.5588940382003784, 1.646331787109375, 0.45111361145973206, 1.063988447189331, 0.16221025586128235, 2.077226400375366, 1.3991317749023438, -0.3368293344974518, 1.4895707368850708, -0.3439860939979553, 0.7955340147018433, -1.642528772354126, -0.18955083191394806, 0.12367898970842361, -0.6252162456512451, 0.05622703582048416, 1.8086313009262085, -1.031517744064331, -0.5301893949508667, -0.8741234540939331, 0.4423084259033203, -1.001123070716858, -0.1585952788591385, -0.5875342488288879, -1.9392778873443604, -0.7374105453491211, 0.5598393678665161, -1.8310277462005615, -0.20280326902866364, -0.16739057004451752, -0.6586499810218811, -1.461350917816162, 2.3707275390625, 0.22737842798233032, 1.3395018577575684, 0.2524474561214447, -2.9399991035461426, 0.11819939315319061, -2.3110463619232178, -0.7508365511894226, -0.13580793142318726, 0.9407514333724976, 1.9653048515319824, 1.6250144243240356, 1.1555674076080322, -1.813984990119934, -2.3971574306488037, 0.2868303060531616, -4.255021095275879, -0.5775728225708008, -2.2399866580963135, 0.23389144241809845, -0.6432003378868103, -0.009517918340861797, -5.395519256591797, 0.04440687596797943, 0.34850722551345825, -2.1525065898895264, 2.4699180126190186, 4.239304065704346, 1.9473716020584106, -1.0508136749267578, 0.09469742327928543, 1.3652271032333374, 0.6095683574676514, 0.39310842752456665, -1.4093914031982422, 1.2334978580474854, -0.31342077255249023, -0.27987009286880493, -6.232743740081787, 1.9331202507019043, 0.39578789472579956, 1.3601161241531372, 2.154099941253662, -0.802103579044342, 0.26643824577331543, -2.829602003097534, -0.6081438064575195, -2.3364980220794678, 1.3269832134246826, 0.29578062891960144, -0.5416246056556702, -2.272028923034668, -2.0343844890594482, -1.4568463563919067, 3.099072217941284, -0.34417325258255005, -0.49149203300476074, -1.6635565757751465, -1.9496419429779053, -2.7673182487487793, -0.11507506668567657, -0.26643431186676025, -2.4652459621429443, -0.663307785987854, 1.867204189300537, 0.7578417062759399, 1.2051790952682495, 2.4647412300109863, -0.1269407868385315, -1.8560696840286255, 3.535940408706665, 4.3119635581970215, -3.4015398025512695, 1.3897056579589844, -0.8560153245925903, -1.868680715560913, 3.717906951904297, -0.5572999715805054, 2.7171945571899414, -1.6079034805297852, -1.2538660764694214, 1.428767204284668, 0.3353903889656067, -1.1116808652877808, 1.5322624444961548, -1.1583422422409058, 1.9581767320632935, 3.43133544921875, -0.05113854631781578, -0.06482239067554474, -1.0812489986419678, -0.3373974859714508, -0.442037969827652, 2.2001235485076904, 0.8679731488227844, 0.8941384553909302, -0.10312343388795853, 2.590503692626953, 1.7281227111816406, -0.3929159343242645, -4.330166339874268, -0.3205813467502594, -0.17834129929542542, -1.728692889213562, -0.15219950675964355, -1.4637889862060547, 0.8012122511863708, -0.4686797559261322, -0.14665505290031433, -0.5662980079650879, -2.7067148685455322, 10.12001895904541, 1.6092067956924438, -2.4863314628601074, 0.3547254502773285, -2.6031084060668945, -1.5816845893859863, -1.2314027547836304, -2.0399439334869385, 0.12852470576763153, 0.24892203509807587, 9.80356216430664, -0.0020369887351989746, 1.9648545980453491, -1.1606335639953613, 0.27613261342048645, -1.1351439952850342, 0.39579832553863525, -4.151304721832275, -1.0703915357589722, 1.962511420249939, -0.5922868251800537, -0.7505410313606262, -2.386094331741333, 0.7480367422103882, -4.592933654785156, 1.4069750308990479, -1.386061668395996, -0.48906880617141724, 0.39873403310775757, 0.3796123266220093, -1.0843466520309448, 1.0206425189971924, -0.64023756980896, 2.4699814319610596, 0.7669808268547058, -0.739196240901947, -0.1536445915699005, -0.02766278386116028, -0.04799801483750343, -1.6651638746261597, -0.30836790800094604, -0.5979170203208923, -1.0415585041046143, 0.8724411725997925, -0.5530299544334412, 0.8748665452003479, 0.5800662636756897, -1.609598159790039, 0.08813387900590897, -2.1212010383605957, -0.5791177749633789, -3.4452712535858154, 0.33439749479293823, 1.565545678138733, -1.3219407796859741, -1.963280200958252, 0.823498547077179, -2.1125643253326416, 2.9339101314544678, 0.9277009963989258, 2.6810691356658936, -2.3023436069488525, 1.3504985570907593, -2.5776784420013428, -0.1736389696598053, -0.3227570652961731, 1.002726435661316, 1.773169755935669, -1.0304005146026611, 0.9137299060821533, -1.6491830348968506, 0.5476337671279907, -0.5564441680908203, 0.056029312312603, -3.2323033809661865, -1.8231613636016846, 2.4024829864501953, -0.2213098406791687, 1.3345946073532104, 0.24933353066444397, 1.9358434677124023, -1.8467178344726562, -0.832648754119873, -0.444292813539505, -0.929529070854187, -1.8707191944122314, 0.11166870594024658, 1.909276008605957, -0.2615477740764618, -1.3243591785430908, 0.9136067628860474, 3.3325040340423584, -0.15825888514518738, -2.708103656768799, -0.3024102449417114, -0.5860486626625061, 0.15106657147407532, 1.6080282926559448, 2.5129826068878174, -1.422393560409546, -1.141536831855774, -0.03509270027279854, 0.9194777011871338, 0.4195568263530731, -0.9820317029953003, -0.5119669437408447, -0.4674365818500519, -4.568571090698242, 0.714816153049469, 0.5183037519454956, -0.7637143135070801, 0.6773627996444702, -1.5296250581741333, -1.83889639377594, 0.37127065658569336, 5.3150763511657715, -1.4517877101898193, -0.18872539699077606, -0.5611503720283508, 1.626105546951294, -0.40450772643089294, -1.9485852718353271, 1.2758899927139282, 1.2776957750320435, -1.1862306594848633, -0.5453925728797913, -1.0680142641067505, 0.3413071930408478, -0.026578323915600777, -1.4699594974517822, -0.8229261636734009, -0.35941192507743835, 2.7583556175231934, 0.09247798472642899, 0.6034209728240967, -3.4416511058807373, 0.6138839721679688, 0.8288637399673462, -0.35069748759269714, 0.13130807876586914, -0.8891825079917908, -0.2692335546016693, 0.5403904914855957, -0.35577836632728577, 2.537092685699463, -1.378884196281433, -0.06697267293930054, 1.0791128873825073, -1.4712127447128296, -0.471655011177063, -1.3812187910079956, -1.2577232122421265, 2.1141247749328613, -0.8127643465995789, -2.0649447441101074, 0.12748409807682037, 0.9288309812545776, 0.5381796360015869, -2.4456732273101807, -0.46822619438171387, 0.21733145415782928, 0.8567817211151123, -3.290773391723633, -1.1708563566207886, 2.8759634494781494, 3.2109246253967285, -0.29442402720451355, 2.16585373878479, 3.6590681076049805, 1.4987975358963013, 0.4376261234283447, -0.15741503238677979, -0.0011645983904600143, -1.187118649482727, 0.4157557785511017, 1.1339380741119385, 1.6489956378936768, 0.2933119535446167, 1.4787027835845947, 0.2147495299577713, -5.036745071411133, 0.03729076683521271, 0.5072966814041138, -4.692467212677002, -0.5029041171073914, 0.23517099022865295, 1.726557970046997, 0.5327624678611755, -2.5017924308776855, -1.407719373703003, -0.773097038269043, -1.8013551235198975, 1.0699561834335327, 1.187111496925354, 0.43660968542099, 0.07621940225362778, -0.10367495566606522, 1.8457927703857422, 1.0438194274902344, 2.1855266094207764, -2.379443645477295, 0.4566729664802551, 0.11841466277837753, -1.5062869787216187, -0.6939676403999329, -2.6682627201080322, -0.8747788667678833, -0.13577991724014282, -0.8780450820922852, 0.022154053673148155, -0.7657594084739685, 0.6757532954216003, -0.10952402651309967, -4.115728378295898, -0.6266281604766846, 0.35115328431129456, 0.842734694480896, 2.4582786560058594, 2.7194557189941406, -0.5479404926300049, -0.2310604602098465, 1.617862582206726, 0.08526498079299927, 0.5705625414848328, -2.3455443382263184, 1.0752061605453491, 2.836928129196167, -0.7748036980628967, 2.3509671688079834, -2.2590816020965576, -0.7888064384460449, -0.3654797077178955, 0.6523011922836304, 0.6044489145278931, 0.9589153528213501, 0.5914345383644104, -0.029884107410907745, -1.1472619771957397, -2.1906564235687256, -0.294933557510376, -0.2780856192111969, -0.019860370084643364, -0.9685660004615784, -0.8123534321784973, 0.019377024844288826, -1.7240720987319946, -1.5102603435516357, 3.1838786602020264, 0.9271923899650574, -1.092232584953308, 0.09000913053750992, 0.3949022591114044, -1.2610276937484741, 0.5962263345718384, 0.34532296657562256, 0.3678859770298004, -3.557433605194092, 0.7903420329093933, 1.2960256338119507, -2.48134183883667, 1.0538493394851685, 0.7064216732978821, -0.5208801627159119, 0.16772420704364777, 0.10821109265089035, 1.8134719133377075, 1.5860211849212646, 0.49910372495651245, -0.8921811580657959, 0.04947365075349808, -0.511259913444519, 18.000123977661133, -0.35317522287368774, 0.5358749628067017, 2.2258691787719727, -1.3575114011764526, -0.22648514807224274, -1.3569890260696411, -2.55912446975708, 0.6915438771247864, 1.430109977722168, -1.5525206327438354, 1.054043173789978, -1.3012362718582153, 2.771493911743164, -2.597848892211914, -2.505314588546753, -1.2727539539337158, -0.3262447416782379, -1.2865656614303589, -0.4542541801929474, 0.2922619879245758, -1.8037075996398926, -0.08130158483982086, 0.16554851830005646, -3.693063497543335, -0.8949710130691528, 0.04373855143785477, 1.252553939819336, 0.07591236382722855, -1.3367266654968262, -0.47518354654312134, 0.07273004949092865, -1.1527498960494995, -0.8683937788009644, -1.988764762878418, -0.9154026508331299, -1.0299655199050903, -0.6082878708839417, 6.201162338256836, -2.7611682415008545, -0.9498151540756226, -1.5110136270523071, -0.4196914732456207, -0.7560410499572754, 0.3911271393299103, -0.7808017134666443, 0.7226780652999878, -0.5619522929191589, 1.9869376420974731, -0.3978343904018402, 0.10388480126857758, -1.0838440656661987, -2.278337001800537, -0.8703662753105164, -1.391851544380188, 1.1319767236709595, 0.8313464522361755, 0.36386996507644653, -1.3125908374786377, 1.8204522132873535, -0.5725443959236145, 1.932776689529419, 1.5593650341033936, 0.36014097929000854, 0.8788727521896362, 0.16277529299259186, -0.5275647640228271, 1.2667042016983032, -0.4383993148803711, 0.020156938582658768, -0.05569930374622345, -0.6518794298171997, -2.6088743209838867, -2.1411163806915283, 1.3070080280303955, 2.2073075771331787, -0.013108314946293831, 1.726949691772461, -0.01774924248456955, 0.11230114102363586, 0.918955385684967, -0.04548732563853264, 0.3643544912338257, -0.661935567855835, 0.24590294063091278, 1.1413426399230957, -0.7886283993721008, 0.4890420138835907, 0.20550581812858582, -1.199252963066101, -1.2735520601272583, 2.751499891281128, 1.008463978767395, 3.258903980255127, -0.925658106803894, 2.230088949203491, 0.7300326228141785, -3.136936664581299, -2.7592480182647705, 0.0837460532784462, 1.470481276512146, 0.9237830638885498, -1.2933248281478882, -0.2848006784915924, 1.2633261680603027, -3.1446926593780518, -0.8276919722557068, 0.24122995138168335, -0.297282874584198, 1.422112226486206, -1.215611219406128, -0.8814828991889954, 0.6748093366622925, 1.2764297723770142, 4.474669933319092, -0.8704814910888672, 1.538413405418396, -2.1574671268463135, -1.3775755167007446, 1.1358144283294678, 0.05426933988928795, 1.3316893577575684, 1.8387047052383423, 0.6119776368141174, -1.7395832538604736, -2.0307157039642334, -1.1864356994628906, 5.000545501708984, -0.7792888879776001, 2.665759563446045, 0.08830766379833221, 0.13068106770515442, -0.6490111947059631, 1.2499792575836182, -1.4679020643234253, 0.01815584860742092, 2.456127405166626, 2.868208885192871, 0.2845054268836975, 0.1777466982603073, 0.834250807762146, 1.3109502792358398, 2.7419309616088867, 0.7605221271514893, -1.8685139417648315, 0.5994600653648376, 1.255201816558838, 1.3810042142868042, 0.5132133960723877, 1.2151761054992676, 0.8433766961097717, 0.550902247428894, -3.091238498687744, -0.6928163766860962, -1.254152536392212, 1.7353264093399048, -1.258580207824707, 0.048973798751831055, -0.4984472393989563, -1.1095168590545654, -2.38956880569458, -1.2064710855484009, -1.8764138221740723, 0.483845591545105, -1.2315447330474854, 0.42969954013824463, 0.25196099281311035, -0.953620195388794, -6.114841938018799, -2.830594539642334, 0.5870872139930725, 0.1908966451883316, -1.2126209735870361, -0.5747318267822266, 0.9408050179481506, 1.2922781705856323, -1.6616533994674683, -1.3967784643173218, 1.5068817138671875, 3.389052629470825, 1.571171522140503, 2.0859692096710205, 0.6097161173820496, -1.9776322841644287, 1.846250057220459, 0.9190328121185303, 0.552798330783844, -1.7427318096160889, -2.09061598777771, 0.5677021741867065, 0.0007936566253192723, -0.05118030682206154, 1.5824674367904663, 1.8845394849777222, -0.07028951495885849, -0.8640850186347961, 0.887951672077179, 1.2059717178344727, 0.39677536487579346, -1.3462885618209839, 0.27858608961105347, -0.8204525709152222, 0.8737918138504028, 0.2540541887283325, 0.8552624583244324, 1.5407888889312744, -1.413244366645813, -2.428065538406372, -1.604604959487915, -3.379556179046631, 1.1043384075164795, 0.7823389172554016, -1.26938796043396, -1.7347742319107056, 0.031163161620497704, 2.1543490886688232, 2.2535879611968994, 0.7977890372276306, -1.3738734722137451, 1.9489562511444092, -1.2823072671890259, -1.547250747680664, -0.9662567377090454, 0.25679028034210205, -1.2866343259811401, -0.28627654910087585, -0.06905282288789749, 1.8530809879302979, 1.2206147909164429, -1.5918673276901245, 1.376379370689392, -2.073774814605713, -0.3480723202228546, -1.0766569375991821, 0.35780006647109985, -0.14529971778392792, -3.364889144897461, -0.04512734338641167, 0.3845123052597046, -1.6709787845611572, 1.2923674583435059, 0.5068379044532776, -3.3428196907043457, -2.241292715072632, -2.997342109680176, -1.1012840270996094, 1.9439274072647095, -1.0079195499420166, -0.5468055009841919, 2.3112449645996094, -0.37057486176490784, -0.8655585646629333, -2.868720531463623, 3.4092299938201904, 4.810457706451416, 0.6906684637069702, 3.0694503784179688, 0.6896948218345642, 0.9578610062599182, -1.8656785488128662, -1.2706576585769653, -0.4337032437324524, 0.37942764163017273, 2.5063281059265137, -1.2072476148605347, 2.5336151123046875, 1.396244764328003, -1.5792630910873413, 2.603773355484009, -0.20557346940040588, 1.2306972742080688, 0.5998671650886536, 2.9357447624206543, -1.3060616254806519, 0.3089618980884552, 2.4922027587890625, 1.9300661087036133, 1.046026587486267, 0.7227902412414551, 3.8634815216064453, -0.1716398000717163, -2.9162092208862305, 3.156285047531128, -0.09764846414327621, 0.7253568768501282, -1.265097737312317, 0.8844847679138184, 0.8449906706809998, 2.0292935371398926, 0.07284732162952423, -1.0856754779815674, 0.9962703585624695, 2.695309638977051, -1.364222526550293, -4.227168560028076, -2.138483762741089, 0.06567902117967606, 0.6416181921958923, -0.29862383008003235, -0.4682431221008301, 0.5803463459014893, -2.28017520904541, 1.2760350704193115, -0.6367468237876892, -1.8662497997283936, 0.13403327763080597, -1.0061609745025635, -0.4410650432109833, -1.0383193492889404, 2.2633588314056396, -3.4870243072509766, 2.3975210189819336, 0.6416517496109009, -0.7017578482627869, -0.03609796613454819, -2.381821393966675, 0.34718114137649536, -3.5867667198181152, -0.4289531707763672, -1.504190444946289, -2.2774040699005127, -0.9481396079063416, -3.501765251159668, -2.0161635875701904, -1.12028169631958, 5.688331127166748, 1.8719011545181274, 1.4233137369155884, 0.20916958153247833, 0.647894024848938, -0.188261479139328, -0.8949806094169617, -3.586627721786499, -0.8161498308181763, 1.6176103353500366, -2.936527967453003, -1.2240667343139648, 1.716913104057312, -2.4173221588134766, -0.8283926248550415, 0.3693200349807739]\n"
     ]
    }
   ],
   "source": [
    "import ollama\n",
    "\n",
    "# Test embedding generation\n",
    "text = \"This is a test sentence for embeddings.\"\n",
    "response = ollama.embeddings(model=\"gemma2:2b\", prompt=text)\n",
    "\n",
    "print(response)\n"
   ]
  },
  {
   "cell_type": "code",
   "execution_count": null,
   "id": "8dff9d3c-9c4e-4868-8c88-3f437885ab03",
   "metadata": {},
   "outputs": [],
   "source": []
  }
 ],
 "metadata": {
  "kernelspec": {
   "display_name": "Python 3 (ipykernel)",
   "language": "python",
   "name": "python3"
  },
  "language_info": {
   "codemirror_mode": {
    "name": "ipython",
    "version": 3
   },
   "file_extension": ".py",
   "mimetype": "text/x-python",
   "name": "python",
   "nbconvert_exporter": "python",
   "pygments_lexer": "ipython3",
   "version": "3.12.7"
  }
 },
 "nbformat": 4,
 "nbformat_minor": 5
}
